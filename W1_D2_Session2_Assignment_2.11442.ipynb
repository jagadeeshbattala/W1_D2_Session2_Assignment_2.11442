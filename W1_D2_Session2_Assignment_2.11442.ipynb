{
 "cells": [
  {
   "cell_type": "markdown",
   "metadata": {},
   "source": [
    "# W1_D2_Session2_Assignment_2.11442"
   ]
  },
  {
   "cell_type": "markdown",
   "metadata": {},
   "source": [
    "### Problem 1"
   ]
  },
  {
   "cell_type": "code",
   "execution_count": 11,
   "metadata": {},
   "outputs": [
    {
     "name": "stdout",
     "output_type": "stream",
     "text": [
      "Enter numbers with comma separator: 1,2,3,4,5,6,34,8,45,39,12\n",
      "<class 'list'>\n",
      "List of nos:  ['1', '2', '3', '4', '5', '6', '34', '8', '45', '39', '12']\n"
     ]
    }
   ],
   "source": [
    "commasepnos = input(\"Enter numbers with comma separator: \")\n",
    "nos_list = commasepnos.split(',')\n",
    "print(type(nos_list))\n",
    "print(\"List of nos: \", nos_list)"
   ]
  },
  {
   "cell_type": "markdown",
   "metadata": {},
   "source": [
    "### Problem 2"
   ]
  },
  {
   "cell_type": "code",
   "execution_count": 10,
   "metadata": {},
   "outputs": [
    {
     "name": "stdout",
     "output_type": "stream",
     "text": [
      "*\n",
      "**\n",
      "***\n",
      "****\n",
      "*****\n",
      "****\n",
      "***\n",
      "**\n",
      "*\n"
     ]
    }
   ],
   "source": [
    "#Below function is using the nested for loop (for loop inside for loop) and it works in generic way and \n",
    "# works for any number of rows\n",
    "def printStarPattern(no_of_rows):\n",
    "    middle_value = (int)(no_of_rows / 2) + (0 if (no_of_rows % 2 == 0) else 1)\n",
    "    for line_no in range(1, no_of_rows+1):\n",
    "        #print(\"line_no\", line_no, \"middle_value\", middle_value)\n",
    "        if(line_no > middle_value):\n",
    "            no_of_stars = no_of_rows+1 - line_no\n",
    "        else:\n",
    "            no_of_stars = line_no\n",
    "        for star in range(0, no_of_stars):\n",
    "            print('*', end='')\n",
    "        print(\"\")\n",
    "\n",
    "no_of_rows = 9\n",
    "printStarPattern(no_of_rows)"
   ]
  },
  {
   "cell_type": "markdown",
   "metadata": {},
   "source": [
    "### Problem 3"
   ]
  },
  {
   "cell_type": "code",
   "execution_count": 8,
   "metadata": {},
   "outputs": [
    {
     "name": "stdout",
     "output_type": "stream",
     "text": [
      "Please enter some word: Hello World!\n",
      "Reverse of given word is :  !dlroW olleH\n"
     ]
    }
   ],
   "source": [
    "word = input('Please enter some word: ')\n",
    "print(\"Reverse of given word is : \", name[::-1])"
   ]
  },
  {
   "cell_type": "markdown",
   "metadata": {},
   "source": [
    "### Problem 4"
   ]
  },
  {
   "cell_type": "code",
   "execution_count": 9,
   "metadata": {},
   "outputs": [
    {
     "name": "stdout",
     "output_type": "stream",
     "text": [
      "WE, THE PEOPLE OF INDIA, \n",
      "\thaving solemnly resolved to constitute india into a SOVEREIGN,! \n",
      "\tSOCIALIST, SECULAR, DEMOCRATIC REPUBLIC \n",
      "\t and to secure to all citizens\n"
     ]
    }
   ],
   "source": [
    "print(\"WE, THE PEOPLE OF INDIA,\",\n",
    "      \"\\n\\thaving solemnly resolved to constitute india into a SOVEREIGN,!\",\n",
    "      \"\\n\\tSOCIALIST, SECULAR, DEMOCRATIC REPUBLIC\",\n",
    "      \"\\n\\t and to secure to all citizens\")"
   ]
  },
  {
   "cell_type": "code",
   "execution_count": null,
   "metadata": {},
   "outputs": [],
   "source": []
  }
 ],
 "metadata": {
  "kernelspec": {
   "display_name": "Python 3",
   "language": "python",
   "name": "python3"
  },
  "language_info": {
   "codemirror_mode": {
    "name": "ipython",
    "version": 3
   },
   "file_extension": ".py",
   "mimetype": "text/x-python",
   "name": "python",
   "nbconvert_exporter": "python",
   "pygments_lexer": "ipython3",
   "version": "3.7.0"
  }
 },
 "nbformat": 4,
 "nbformat_minor": 2
}
